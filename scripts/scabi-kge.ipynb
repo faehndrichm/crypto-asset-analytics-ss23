{
 "cells": [
  {
   "cell_type": "code",
   "execution_count": 1,
   "id": "01f59534",
   "metadata": {},
   "outputs": [],
   "source": [
    "import pykeen"
   ]
  },
  {
   "cell_type": "code",
   "execution_count": 2,
   "id": "70c79387",
   "metadata": {},
   "outputs": [],
   "source": [
    "import os, os.path as path"
   ]
  },
  {
   "cell_type": "code",
   "execution_count": 3,
   "id": "ed6e0e5d",
   "metadata": {},
   "outputs": [
    {
     "name": "stderr",
     "output_type": "stream",
     "text": [
      "D:\\anaconda3\\lib\\site-packages\\pykeen\\evaluation\\evaluator.py:16: TqdmExperimentalWarning: Using `tqdm.autonotebook.tqdm` in notebook mode. Use `tqdm.tqdm` instead to force console mode (e.g. in jupyter console)\n",
      "  from tqdm.autonotebook import tqdm\n"
     ]
    }
   ],
   "source": [
    "from pykeen.pipeline import pipeline"
   ]
  },
  {
   "cell_type": "code",
   "execution_count": 4,
   "id": "3102ab44",
   "metadata": {},
   "outputs": [],
   "source": [
    "from pykeen.triples import TriplesFactory"
   ]
  },
  {
   "cell_type": "code",
   "execution_count": 10,
   "id": "c8529011",
   "metadata": {},
   "outputs": [],
   "source": [
    "from pykeen.models.predict import get_tail_prediction_df"
   ]
  },
  {
   "cell_type": "code",
   "execution_count": 73,
   "id": "b55a7cd8",
   "metadata": {},
   "outputs": [],
   "source": [
    "tf = TriplesFactory.from_path('defillama_kg.tsv', create_inverse_triples=True)"
   ]
  },
  {
   "cell_type": "code",
   "execution_count": 87,
   "id": "c430dd89",
   "metadata": {},
   "outputs": [],
   "source": [
    "tf = TriplesFactory.from_path('defillama_kg.tsv', create_inverse_triples=False)"
   ]
  },
  {
   "cell_type": "code",
   "execution_count": 88,
   "id": "bd31bc73",
   "metadata": {},
   "outputs": [
    {
     "name": "stderr",
     "output_type": "stream",
     "text": [
      "WARNING:pykeen.utils:using automatically assigned random_state=3760034770\n",
      "INFO:pykeen.triples.splitting:done splitting triples to groups of sizes [6526, 1486, 1486]\n"
     ]
    }
   ],
   "source": [
    "training, testing, validation = tf.split([.8, .1, .1])"
   ]
  },
  {
   "cell_type": "code",
   "execution_count": 75,
   "id": "642b42ad",
   "metadata": {},
   "outputs": [
    {
     "data": {
      "text/plain": [
       "(TriplesFactory(num_entities=5422, num_relations=14, create_inverse_triples=True, num_triples=11888, path=\"D:\\hacks\\caa\\scabi\\defillama_kg.tsv\"),\n",
       " TriplesFactory(num_entities=5422, num_relations=7, create_inverse_triples=False, num_triples=1486, path=\"D:\\hacks\\caa\\scabi\\defillama_kg.tsv\"),\n",
       " TriplesFactory(num_entities=5422, num_relations=7, create_inverse_triples=False, num_triples=1486, path=\"D:\\hacks\\caa\\scabi\\defillama_kg.tsv\"))"
      ]
     },
     "execution_count": 75,
     "metadata": {},
     "output_type": "execute_result"
    }
   ],
   "source": [
    "training, testing, validation"
   ]
  },
  {
   "cell_type": "code",
   "execution_count": 91,
   "id": "7bf573cb",
   "metadata": {
    "scrolled": true
   },
   "outputs": [],
   "source": [
    "# models with literals are not used as it requires literalshape\n",
    "\n",
    "MODELS = [\n",
    "#     'autosf', 'boxe', 'compgcn', 'complex', 'conve', 'convkb', 'cooccurrencefiltered',\n",
    "#     'cp', 'crosse', 'distma', 'distmult', 'ermlp', 'ermlpe', 'fixed', 'hole', \n",
    "#     'inductivenodepiece', 'inductivenodepiecegnn', # need inference factory (not yet used)\n",
    "#     'kg2e', 'mure', 'nodepiece', 'ntn', 'pairre', 'proje', 'quate', 'rescal', \n",
    "#      'rgcn', # inverse false\n",
    "#     'rotate', 'se', 'simple', 'toruse', 'transd', 'transe', 'transf', 'transh', 'transr', 'tucker', 'um'\n",
    "]\n",
    "for MODEL in MODELS:\n",
    "    try:\n",
    "        DATASET = 'defillama-eth'\n",
    "        result = pipeline(\n",
    "            training=training,\n",
    "            testing=testing,\n",
    "            validation=validation,\n",
    "            model=MODEL,\n",
    "            stopper='early',\n",
    "            evaluation_relation_whitelist={'has_label'},\n",
    "            device='cuda:0',\n",
    "            epochs=500,  # short epochs for testing - you should go higher\n",
    "            negative_sampler='bernoulli',\n",
    "            result_tracker='tensorboard',\n",
    "            training_kwargs=dict(\n",
    "                checkpoint_name=MODEL+'_'+DATASET+'_checkpoint.pt',\n",
    "                checkpoint_frequency=50,\n",
    "            ),\n",
    "            result_tracker_kwargs=dict(\n",
    "                experiment_name=MODEL+'_'+DATASET,\n",
    "            ),\n",
    "            stopper_kwargs=dict(\n",
    "                frequency=20,\n",
    "                patience=5,\n",
    "                relative_delta=0.001\n",
    "            ),\n",
    "        )\n",
    "    finally:\n",
    "        pass"
   ]
  },
  {
   "cell_type": "code",
   "execution_count": 43,
   "id": "2f69c38e",
   "metadata": {},
   "outputs": [
    {
     "data": {
      "text/plain": [
       "0.30357142857142855"
      ]
     },
     "execution_count": 43,
     "metadata": {},
     "output_type": "execute_result"
    }
   ],
   "source": [
    "result.get_metric('hits@10')"
   ]
  },
  {
   "cell_type": "code",
   "execution_count": 11,
   "id": "a1a6a027",
   "metadata": {},
   "outputs": [],
   "source": [
    "sc_addr = '0x57dD84042ec9507963016596A34EdaD42F7e4CCE'"
   ]
  },
  {
   "cell_type": "code",
   "execution_count": 13,
   "id": "aa15453c",
   "metadata": {},
   "outputs": [
    {
     "data": {
      "text/plain": [
       "TriplesFactory(num_entities=5422, num_relations=7, create_inverse_triples=False, num_triples=11888, path=\"D:\\hacks\\caa\\scabi\\defillama_kg.tsv\")"
      ]
     },
     "execution_count": 13,
     "metadata": {},
     "output_type": "execute_result"
    }
   ],
   "source": [
    "result.training"
   ]
  },
  {
   "cell_type": "code",
   "execution_count": 44,
   "id": "b09f345e",
   "metadata": {},
   "outputs": [
    {
     "data": {
      "text/html": [
       "<div>\n",
       "<style scoped>\n",
       "    .dataframe tbody tr th:only-of-type {\n",
       "        vertical-align: middle;\n",
       "    }\n",
       "\n",
       "    .dataframe tbody tr th {\n",
       "        vertical-align: top;\n",
       "    }\n",
       "\n",
       "    .dataframe thead th {\n",
       "        text-align: right;\n",
       "    }\n",
       "</style>\n",
       "<table border=\"1\" class=\"dataframe\">\n",
       "  <thead>\n",
       "    <tr style=\"text-align: right;\">\n",
       "      <th></th>\n",
       "      <th>tail_id</th>\n",
       "      <th>tail_label</th>\n",
       "      <th>score</th>\n",
       "      <th>in_training</th>\n",
       "    </tr>\n",
       "  </thead>\n",
       "  <tbody>\n",
       "    <tr>\n",
       "      <th>5421</th>\n",
       "      <td>5421</td>\n",
       "      <td>yield-aggregator</td>\n",
       "      <td>-2.235974</td>\n",
       "      <td>True</td>\n",
       "    </tr>\n",
       "    <tr>\n",
       "      <th>4078</th>\n",
       "      <td>4078</td>\n",
       "      <td>options</td>\n",
       "      <td>-6.794979</td>\n",
       "      <td>False</td>\n",
       "    </tr>\n",
       "    <tr>\n",
       "      <th>5420</th>\n",
       "      <td>5420</td>\n",
       "      <td>yield</td>\n",
       "      <td>-6.982105</td>\n",
       "      <td>False</td>\n",
       "    </tr>\n",
       "    <tr>\n",
       "      <th>1223</th>\n",
       "      <td>1223</td>\n",
       "      <td>dexes</td>\n",
       "      <td>-7.110575</td>\n",
       "      <td>False</td>\n",
       "    </tr>\n",
       "    <tr>\n",
       "      <th>879</th>\n",
       "      <td>879</td>\n",
       "      <td>chain</td>\n",
       "      <td>-7.128541</td>\n",
       "      <td>False</td>\n",
       "    </tr>\n",
       "    <tr>\n",
       "      <th>...</th>\n",
       "      <td>...</td>\n",
       "      <td>...</td>\n",
       "      <td>...</td>\n",
       "      <td>...</td>\n",
       "    </tr>\n",
       "    <tr>\n",
       "      <th>156</th>\n",
       "      <td>156</td>\n",
       "      <td>0x64aa3364F17a4D01c6f1751Fd97C2BD3D7e7f1D5</td>\n",
       "      <td>-10.542206</td>\n",
       "      <td>False</td>\n",
       "    </tr>\n",
       "    <tr>\n",
       "      <th>2686</th>\n",
       "      <td>2686</td>\n",
       "      <td>function/renounceoperator</td>\n",
       "      <td>-10.546217</td>\n",
       "      <td>False</td>\n",
       "    </tr>\n",
       "    <tr>\n",
       "      <th>19</th>\n",
       "      <td>19</td>\n",
       "      <td>0x0AaCfbeC6a24756c20D41914F2caba817C0d8521</td>\n",
       "      <td>-10.577397</td>\n",
       "      <td>False</td>\n",
       "    </tr>\n",
       "    <tr>\n",
       "      <th>2625</th>\n",
       "      <td>2625</td>\n",
       "      <td>function/quack</td>\n",
       "      <td>-10.619660</td>\n",
       "      <td>False</td>\n",
       "    </tr>\n",
       "    <tr>\n",
       "      <th>2917</th>\n",
       "      <td>2917</td>\n",
       "      <td>function/stopmint</td>\n",
       "      <td>-10.790288</td>\n",
       "      <td>False</td>\n",
       "    </tr>\n",
       "  </tbody>\n",
       "</table>\n",
       "<p>5422 rows × 4 columns</p>\n",
       "</div>"
      ],
      "text/plain": [
       "      tail_id                                  tail_label      score  \\\n",
       "5421     5421                            yield-aggregator  -2.235974   \n",
       "4078     4078                                     options  -6.794979   \n",
       "5420     5420                                       yield  -6.982105   \n",
       "1223     1223                                       dexes  -7.110575   \n",
       "879       879                                       chain  -7.128541   \n",
       "...       ...                                         ...        ...   \n",
       "156       156  0x64aa3364F17a4D01c6f1751Fd97C2BD3D7e7f1D5 -10.542206   \n",
       "2686     2686                   function/renounceoperator -10.546217   \n",
       "19         19  0x0AaCfbeC6a24756c20D41914F2caba817C0d8521 -10.577397   \n",
       "2625     2625                              function/quack -10.619660   \n",
       "2917     2917                           function/stopmint -10.790288   \n",
       "\n",
       "      in_training  \n",
       "5421         True  \n",
       "4078        False  \n",
       "5420        False  \n",
       "1223        False  \n",
       "879         False  \n",
       "...           ...  \n",
       "156         False  \n",
       "2686        False  \n",
       "19          False  \n",
       "2625        False  \n",
       "2917        False  \n",
       "\n",
       "[5422 rows x 4 columns]"
      ]
     },
     "execution_count": 44,
     "metadata": {},
     "output_type": "execute_result"
    }
   ],
   "source": [
    "get_tail_prediction_df(result.model, result.training, sc_addr, 'has_label')"
   ]
  }
 ],
 "metadata": {
  "kernelspec": {
   "display_name": "Python 3 (ipykernel)",
   "language": "python",
   "name": "python3"
  },
  "language_info": {
   "codemirror_mode": {
    "name": "ipython",
    "version": 3
   },
   "file_extension": ".py",
   "mimetype": "text/x-python",
   "name": "python",
   "nbconvert_exporter": "python",
   "pygments_lexer": "ipython3",
   "version": "3.9.12"
  }
 },
 "nbformat": 4,
 "nbformat_minor": 5
}
